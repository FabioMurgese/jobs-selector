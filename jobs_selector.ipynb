{
 "cells": [
  {
   "cell_type": "code",
   "execution_count": 1,
   "metadata": {
    "id": "XQymUpIR7WAP"
   },
   "outputs": [],
   "source": [
    "%matplotlib inline\n",
    "import numpy as np\n",
    "import pandas as pd\n",
    "import seaborn as sns\n",
    "import matplotlib.pyplot as plt\n",
    "import tensorflow as tf\n",
    "import pickle\n",
    "\n",
    "import nltk\n",
    "from nltk.corpus import stopwords\n",
    "from nltk.stem import PorterStemmer\n",
    "\n",
    "from sklearn.feature_extraction.text import CountVectorizer\n",
    "from sklearn.feature_extraction.text import TfidfTransformer\n",
    "from sklearn.feature_extraction.text import TfidfVectorizer\n",
    "from sklearn.model_selection import train_test_split\n",
    "from sklearn.linear_model import LogisticRegression\n",
    "from sklearn.naive_bayes import MultinomialNB\n",
    "from sklearn.svm import LinearSVC, SVC\n",
    "from sklearn.model_selection import GridSearchCV\n",
    "from sklearn.neural_network import MLPClassifier\n",
    "from sklearn.metrics import classification_report, confusion_matrix\n",
    "from sklearn.metrics import precision_recall_fscore_support\n",
    "from sklearn.pipeline import Pipeline\n",
    "from sklearn.feature_selection import SelectKBest, chi2"
   ]
  },
  {
   "cell_type": "code",
   "execution_count": 2,
   "metadata": {
    "colab": {
     "base_uri": "https://localhost:8080/",
     "height": 422
    },
    "id": "VSirgTkd7dCP",
    "outputId": "d68525f2-6d66-4262-c874-1f50a27259b4"
   },
   "outputs": [
    {
     "data": {
      "text/html": [
       "<div>\n",
       "<style scoped>\n",
       "    .dataframe tbody tr th:only-of-type {\n",
       "        vertical-align: middle;\n",
       "    }\n",
       "\n",
       "    .dataframe tbody tr th {\n",
       "        vertical-align: top;\n",
       "    }\n",
       "\n",
       "    .dataframe thead th {\n",
       "        text-align: right;\n",
       "    }\n",
       "</style>\n",
       "<table border=\"1\" class=\"dataframe\">\n",
       "  <thead>\n",
       "    <tr style=\"text-align: right;\">\n",
       "      <th></th>\n",
       "      <th>Job_offer</th>\n",
       "      <th>Label</th>\n",
       "    </tr>\n",
       "  </thead>\n",
       "  <tbody>\n",
       "    <tr>\n",
       "      <th>0</th>\n",
       "      <td>Openjobmetis SpA ricerca, per importante azien...</td>\n",
       "      <td>Java Developer</td>\n",
       "    </tr>\n",
       "    <tr>\n",
       "      <th>1</th>\n",
       "      <td>La persona prescelta, diplomata o laureata in ...</td>\n",
       "      <td>Software Engineer</td>\n",
       "    </tr>\n",
       "    <tr>\n",
       "      <th>2</th>\n",
       "      <td>Sei un informatico o matematico con la passion...</td>\n",
       "      <td>Software Engineer</td>\n",
       "    </tr>\n",
       "    <tr>\n",
       "      <th>3</th>\n",
       "      <td>Ti occuperai della progettazione, realizzazion...</td>\n",
       "      <td>Programmer</td>\n",
       "    </tr>\n",
       "    <tr>\n",
       "      <th>4</th>\n",
       "      <td>Stiamo cercando uno\\una sviluppatore\\sviluppat...</td>\n",
       "      <td>Programmer</td>\n",
       "    </tr>\n",
       "    <tr>\n",
       "      <th>...</th>\n",
       "      <td>...</td>\n",
       "      <td>...</td>\n",
       "    </tr>\n",
       "    <tr>\n",
       "      <th>1747</th>\n",
       "      <td>* Test JUnit\\n     * Git, La Ibs Srl è alla ri...</td>\n",
       "      <td>Java Developer</td>\n",
       "    </tr>\n",
       "    <tr>\n",
       "      <th>1748</th>\n",
       "      <td>La ricorsa, inserita all'interno di un team, l...</td>\n",
       "      <td>Programmer</td>\n",
       "    </tr>\n",
       "    <tr>\n",
       "      <th>1749</th>\n",
       "      <td>Sviluppatore Java Junior da inserire in attivi...</td>\n",
       "      <td>Java Developer</td>\n",
       "    </tr>\n",
       "    <tr>\n",
       "      <th>1750</th>\n",
       "      <td>La risorsa sarà inserita nei team di risorse d...</td>\n",
       "      <td>Web Developer</td>\n",
       "    </tr>\n",
       "    <tr>\n",
       "      <th>1751</th>\n",
       "      <td>Job summary Parola chiave: digitalizzazione! U...</td>\n",
       "      <td>Web Developer</td>\n",
       "    </tr>\n",
       "  </tbody>\n",
       "</table>\n",
       "<p>1752 rows × 2 columns</p>\n",
       "</div>"
      ],
      "text/plain": [
       "                                              Job_offer              Label\n",
       "0     Openjobmetis SpA ricerca, per importante azien...     Java Developer\n",
       "1     La persona prescelta, diplomata o laureata in ...  Software Engineer\n",
       "2     Sei un informatico o matematico con la passion...  Software Engineer\n",
       "3     Ti occuperai della progettazione, realizzazion...         Programmer\n",
       "4     Stiamo cercando uno\\una sviluppatore\\sviluppat...         Programmer\n",
       "...                                                 ...                ...\n",
       "1747  * Test JUnit\\n     * Git, La Ibs Srl è alla ri...     Java Developer\n",
       "1748  La ricorsa, inserita all'interno di un team, l...         Programmer\n",
       "1749  Sviluppatore Java Junior da inserire in attivi...     Java Developer\n",
       "1750  La risorsa sarà inserita nei team di risorse d...      Web Developer\n",
       "1751  Job summary Parola chiave: digitalizzazione! U...      Web Developer\n",
       "\n",
       "[1752 rows x 2 columns]"
      ]
     },
     "execution_count": 2,
     "metadata": {},
     "output_type": "execute_result"
    }
   ],
   "source": [
    "jobs_train = pd.read_csv('dataset/train_set.csv')\n",
    "jobs_train"
   ]
  },
  {
   "cell_type": "code",
   "execution_count": 3,
   "metadata": {
    "colab": {
     "base_uri": "https://localhost:8080/"
    },
    "id": "BvHuI68f_XDj",
    "outputId": "3d332c40-a366-414f-bbb8-678659749633"
   },
   "outputs": [
    {
     "data": {
      "text/plain": [
       "Job_offer    object\n",
       "Label        object\n",
       "dtype: object"
      ]
     },
     "execution_count": 3,
     "metadata": {},
     "output_type": "execute_result"
    }
   ],
   "source": [
    "jobs_train.dtypes"
   ]
  },
  {
   "cell_type": "markdown",
   "metadata": {
    "id": "9OEHaS-B_kln"
   },
   "source": [
    "### Let's have a look at data distribution."
   ]
  },
  {
   "cell_type": "code",
   "execution_count": 4,
   "metadata": {
    "colab": {
     "base_uri": "https://localhost:8080/",
     "height": 435
    },
    "id": "lD8RCwol_bnu",
    "outputId": "51169e58-38c5-47ba-bb4d-c6ab552c3f2b"
   },
   "outputs": [
    {
     "data": {
      "text/plain": [
       "<AxesSubplot:title={'center':'Employees Categories Count'}>"
      ]
     },
     "execution_count": 4,
     "metadata": {},
     "output_type": "execute_result"
    },
    {
     "data": {
      "image/png": "[encoded data removed]",
      "text/plain": [
       "<Figure size 720x360 with 1 Axes>"
      ]
     },
     "metadata": {
      "needs_background": "light"
     },
     "output_type": "display_data"
    }
   ],
   "source": [
    "jobs_train['Label'].value_counts().plot(kind='bar',\n",
    "                                   title='Employees Categories Count',\n",
    "                                    figsize=(10,5))"
   ]
  },
  {
   "cell_type": "code",
   "execution_count": 5,
   "metadata": {
    "colab": {
     "base_uri": "https://localhost:8080/"
    },
    "id": "3jRFJ965_f2U",
    "outputId": "7d88824c-8f3b-410b-8b84-35a2cdd82efb"
   },
   "outputs": [
    {
     "data": {
      "text/plain": [
       "False"
      ]
     },
     "execution_count": 5,
     "metadata": {},
     "output_type": "execute_result"
    }
   ],
   "source": [
    "jobs_train['Job_offer'].isnull().any()"
   ]
  },
  {
   "cell_type": "markdown",
   "metadata": {
    "id": "u9e0infu78l_"
   },
   "source": [
    "## Text Preprocessing:\n",
    "* first, we remove the punctuation, numbers, and stop words from each commit message.\n",
    "* second, all the words are converted to lower case and then stemmed using the Porter Stemmer in the NLTK package. The goal of stemming is to reduce the number of inflectional forms of words appearing in the commit; it will cause words such as “performance” and “performing” to syntactically match one another by reducing them to their base word “perform”. This helps decrease the size of the vocabulary space and improve the volume of the feature space in the corpus.\n",
    "* finally, each corpus is transformed into vector space model (VSM) using the tf-idf vectorizer in Python’s SKlearn package to extract the features."
   ]
  },
  {
   "cell_type": "code",
   "execution_count": 6,
   "metadata": {
    "colab": {
     "base_uri": "https://localhost:8080/"
    },
    "id": "vjTJdMUQ7s9h",
    "outputId": "c031ba1d-e7e2-4fbf-b2b2-6ce3de8a19c5"
   },
   "outputs": [
    {
     "name": "stderr",
     "output_type": "stream",
     "text": [
      "[nltk_data] Downloading package stopwords to\n",
      "[nltk_data]     /home/fabmoore/nltk_data...\n",
      "[nltk_data]   Package stopwords is already up-to-date!\n"
     ]
    }
   ],
   "source": [
    "import re\n",
    "\n",
    "nltk.download('stopwords')\n",
    "stemmer = PorterStemmer()\n",
    "words = stopwords.words(\"italian\")\n",
    "jobs_train['Job_offer'] = jobs_train['Job_offer'].apply(lambda x: \" \".join([stemmer.stem(i) for i in re.sub(\"[^a-zA-Z]\", \" \", x).split() if i not in words]).lower())\n"
   ]
  },
  {
   "cell_type": "code",
   "execution_count": 7,
   "metadata": {
    "id": "_lxsuBYe707M"
   },
   "outputs": [],
   "source": [
    "# X_train, X_val, y_train, y_val = train_test_split(np.array(jobs_train.Job_offer), np.array(jobs_train.Label), test_size=0.2, random_state=42)"
   ]
  },
  {
   "cell_type": "code",
   "execution_count": 8,
   "metadata": {
    "id": "QymEXN7s8sGb"
   },
   "outputs": [],
   "source": [
    "X_train, y_train = np.array(jobs_train.Job_offer), np.array(jobs_train.Label)"
   ]
  },
  {
   "cell_type": "code",
   "execution_count": 9,
   "metadata": {
    "colab": {
     "base_uri": "https://localhost:8080/"
    },
    "id": "jC1LLG2U8Nim",
    "outputId": "43e1e486-84a5-44f7-9820-94c2d9f80036"
   },
   "outputs": [
    {
     "name": "stdout",
     "output_type": "stream",
     "text": [
      "(1752, 7760)\n"
     ]
    }
   ],
   "source": [
    "count_vect = CountVectorizer()\n",
    "X_train_counts = count_vect.fit_transform(X_train)\n",
    "# X_val_counts = count_vect.transform(X_val)\n",
    "print(X_train_counts.shape)\n",
    "# print(X_val_counts.shape)"
   ]
  },
  {
   "cell_type": "markdown",
   "metadata": {
    "id": "__Uu2eTjBtWn"
   },
   "source": [
    "Transform a count matrix to a normalized tf or tf-idf representation.\n",
    "\n",
    "Tf means term-frequency while tf-idf means term-frequency times inverse document-frequency. This is a common term weighting scheme in information retrieval, that has also found good use in document classification.\n",
    "\n",
    "The goal of using tf-idf instead of the raw frequencies of occurrence of a token in a given document is to scale down the impact of tokens that occur very frequently in a given corpus and that are hence empirically less informative than features that occur in a small fraction of the training corpus."
   ]
  },
  {
   "cell_type": "code",
   "execution_count": 10,
   "metadata": {
    "colab": {
     "base_uri": "https://localhost:8080/"
    },
    "id": "Q7uCsVUg9TOY",
    "outputId": "8c51aeba-ff82-43a5-961c-7fd440be8cf5"
   },
   "outputs": [
    {
     "name": "stdout",
     "output_type": "stream",
     "text": [
      "(1752, 7760)\n"
     ]
    }
   ],
   "source": [
    "tfidf_transformer = TfidfTransformer()\n",
    "X_train_tfidf = tfidf_transformer.fit_transform(X_train_counts)\n",
    "# X_val_tfidf = tfidf_transformer.transform(X_val_counts)\n",
    "print(X_train_tfidf.shape)\n",
    "# print(X_val_tfidf.shape)"
   ]
  },
  {
   "cell_type": "markdown",
   "metadata": {
    "id": "WIKz1d_2AYbk"
   },
   "source": [
    "## Classifier: SVC"
   ]
  },
  {
   "cell_type": "code",
   "execution_count": 11,
   "metadata": {
    "id": "YU-x3Js79zDG"
   },
   "outputs": [],
   "source": [
    "from sklearn.linear_model import SGDClassifier\n",
    "model = SGDClassifier()\n",
    "clf = model.fit(X_train_tfidf, y_train)"
   ]
  },
  {
   "cell_type": "markdown",
   "metadata": {
    "id": "XnS71pHgAdqn"
   },
   "source": [
    "### Take test dataset and manipulate it in the same way of training set."
   ]
  },
  {
   "cell_type": "code",
   "execution_count": 12,
   "metadata": {
    "colab": {
     "base_uri": "https://localhost:8080/",
     "height": 422
    },
    "id": "hS1kP_MI_58h",
    "outputId": "bf4826d1-2055-4444-8dd9-2275c931f0b6"
   },
   "outputs": [
    {
     "data": {
      "text/html": [
       "<div>\n",
       "<style scoped>\n",
       "    .dataframe tbody tr th:only-of-type {\n",
       "        vertical-align: middle;\n",
       "    }\n",
       "\n",
       "    .dataframe tbody tr th {\n",
       "        vertical-align: top;\n",
       "    }\n",
       "\n",
       "    .dataframe thead th {\n",
       "        text-align: right;\n",
       "    }\n",
       "</style>\n",
       "<table border=\"1\" class=\"dataframe\">\n",
       "  <thead>\n",
       "    <tr style=\"text-align: right;\">\n",
       "      <th></th>\n",
       "      <th>Job_offer</th>\n",
       "      <th>Label</th>\n",
       "    </tr>\n",
       "  </thead>\n",
       "  <tbody>\n",
       "    <tr>\n",
       "      <th>0</th>\n",
       "      <td>Siamo alla ricerca di figure di Full Stack Dev...</td>\n",
       "      <td>Web Developer</td>\n",
       "    </tr>\n",
       "    <tr>\n",
       "      <th>1</th>\n",
       "      <td>Nell'ambito del potenziamento della struttura,...</td>\n",
       "      <td>Java Developer</td>\n",
       "    </tr>\n",
       "    <tr>\n",
       "      <th>2</th>\n",
       "      <td>* Gestione dell'infrastruttura informatica, de...</td>\n",
       "      <td>System Analyst</td>\n",
       "    </tr>\n",
       "    <tr>\n",
       "      <th>3</th>\n",
       "      <td>La risorsa è il responsabile dell'installazion...</td>\n",
       "      <td>System Analyst</td>\n",
       "    </tr>\n",
       "    <tr>\n",
       "      <th>4</th>\n",
       "      <td>La risorsa, inserita nell'area Innovation Cent...</td>\n",
       "      <td>Java Developer</td>\n",
       "    </tr>\n",
       "    <tr>\n",
       "      <th>...</th>\n",
       "      <td>...</td>\n",
       "      <td>...</td>\n",
       "    </tr>\n",
       "    <tr>\n",
       "      <th>434</th>\n",
       "      <td>Ali SpA filiale di Fano, cerca per Azienda di ...</td>\n",
       "      <td>System Analyst</td>\n",
       "    </tr>\n",
       "    <tr>\n",
       "      <th>435</th>\n",
       "      <td>Job summary Parola chiave: digitalizzazione! U...</td>\n",
       "      <td>Web Developer</td>\n",
       "    </tr>\n",
       "    <tr>\n",
       "      <th>436</th>\n",
       "      <td>Job summary Parola chiave: digitalizzazione! U...</td>\n",
       "      <td>Web Developer</td>\n",
       "    </tr>\n",
       "    <tr>\n",
       "      <th>437</th>\n",
       "      <td>Unazienda che offre servizi a 360°: alle grand...</td>\n",
       "      <td>Web Developer</td>\n",
       "    </tr>\n",
       "    <tr>\n",
       "      <th>438</th>\n",
       "      <td>Ricerchiamo per un'importante realtà nel setto...</td>\n",
       "      <td>System Analyst</td>\n",
       "    </tr>\n",
       "  </tbody>\n",
       "</table>\n",
       "<p>439 rows × 2 columns</p>\n",
       "</div>"
      ],
      "text/plain": [
       "                                             Job_offer           Label\n",
       "0    Siamo alla ricerca di figure di Full Stack Dev...   Web Developer\n",
       "1    Nell'ambito del potenziamento della struttura,...  Java Developer\n",
       "2    * Gestione dell'infrastruttura informatica, de...  System Analyst\n",
       "3    La risorsa è il responsabile dell'installazion...  System Analyst\n",
       "4    La risorsa, inserita nell'area Innovation Cent...  Java Developer\n",
       "..                                                 ...             ...\n",
       "434  Ali SpA filiale di Fano, cerca per Azienda di ...  System Analyst\n",
       "435  Job summary Parola chiave: digitalizzazione! U...   Web Developer\n",
       "436  Job summary Parola chiave: digitalizzazione! U...   Web Developer\n",
       "437  Unazienda che offre servizi a 360°: alle grand...   Web Developer\n",
       "438  Ricerchiamo per un'importante realtà nel setto...  System Analyst\n",
       "\n",
       "[439 rows x 2 columns]"
      ]
     },
     "execution_count": 12,
     "metadata": {},
     "output_type": "execute_result"
    }
   ],
   "source": [
    "jobs_test = pd.read_csv('dataset/test_set.csv')\n",
    "jobs_test"
   ]
  },
  {
   "cell_type": "code",
   "execution_count": 13,
   "metadata": {
    "id": "ZD-Yk7LK_8mD"
   },
   "outputs": [],
   "source": [
    "jobs_test['Job_offer'] = jobs_test['Job_offer'].apply(lambda x: \" \".join([stemmer.stem(i) for i in re.sub(\"[^a-zA-Z]\", \" \", x).split() if i not in words]).lower())"
   ]
  },
  {
   "cell_type": "code",
   "execution_count": 14,
   "metadata": {
    "id": "yYV7rcwh_80t"
   },
   "outputs": [],
   "source": [
    "X_test, y_test = np.array(jobs_test.Job_offer), np.array(jobs_test.Label)"
   ]
  },
  {
   "cell_type": "markdown",
   "metadata": {
    "id": "OiSs0QZoA4FY"
   },
   "source": [
    "### Perform tokenization and learn a vocabulary dictionary of all tokens."
   ]
  },
  {
   "cell_type": "code",
   "execution_count": 15,
   "metadata": {
    "id": "1efY0Nod_83i"
   },
   "outputs": [],
   "source": [
    "X_test_counts = count_vect.transform(X_test)"
   ]
  },
  {
   "cell_type": "code",
   "execution_count": 16,
   "metadata": {
    "id": "k0cfsjZkASSL"
   },
   "outputs": [],
   "source": [
    "X_test_tfidf = tfidf_transformer.transform(X_test_counts)"
   ]
  },
  {
   "cell_type": "markdown",
   "metadata": {
    "id": "VnT4tZiDAnY_"
   },
   "source": [
    "### Perform predictions on test data."
   ]
  },
  {
   "cell_type": "code",
   "execution_count": 17,
   "metadata": {
    "id": "Qcra7QyU_85w"
   },
   "outputs": [],
   "source": [
    "predicted = clf.predict(X_test_tfidf)"
   ]
  },
  {
   "cell_type": "markdown",
   "metadata": {
    "id": "RB9qrvH3AtJX"
   },
   "source": [
    "### Compute accuracy."
   ]
  },
  {
   "cell_type": "code",
   "execution_count": 18,
   "metadata": {
    "colab": {
     "base_uri": "https://localhost:8080/"
    },
    "id": "x7MAQa8C-P86",
    "outputId": "07b3d80a-2b5c-435c-863d-39f21ccb80f4"
   },
   "outputs": [
    {
     "data": {
      "text/plain": [
       "0.8109339407744874"
      ]
     },
     "execution_count": 18,
     "metadata": {},
     "output_type": "execute_result"
    }
   ],
   "source": [
    "accuracy = 0\n",
    "for prediction,correct in zip(predicted, y_test):\n",
    "    if prediction == correct:\n",
    "        accuracy += 1\n",
    "accuracy/len(predicted)"
   ]
  },
  {
   "cell_type": "code",
   "execution_count": 19,
   "metadata": {
    "colab": {
     "base_uri": "https://localhost:8080/",
     "height": 422
    },
    "id": "drxarfEd-cKZ",
    "outputId": "6ad7b467-56b8-4b4e-89f1-8d0dc871e71e"
   },
   "outputs": [
    {
     "data": {
      "text/html": [
       "<div>\n",
       "<style scoped>\n",
       "    .dataframe tbody tr th:only-of-type {\n",
       "        vertical-align: middle;\n",
       "    }\n",
       "\n",
       "    .dataframe tbody tr th {\n",
       "        vertical-align: top;\n",
       "    }\n",
       "\n",
       "    .dataframe thead th {\n",
       "        text-align: right;\n",
       "    }\n",
       "</style>\n",
       "<table border=\"1\" class=\"dataframe\">\n",
       "  <thead>\n",
       "    <tr style=\"text-align: right;\">\n",
       "      <th></th>\n",
       "      <th>Job_description</th>\n",
       "      <th>Label_true</th>\n",
       "      <th>Label_pred</th>\n",
       "    </tr>\n",
       "  </thead>\n",
       "  <tbody>\n",
       "    <tr>\n",
       "      <th>0</th>\n",
       "      <td>siamo ricerca figur full stack develop inserir...</td>\n",
       "      <td>Web Developer</td>\n",
       "      <td>Web Developer</td>\n",
       "    </tr>\n",
       "    <tr>\n",
       "      <th>1</th>\n",
       "      <td>nell ambito potenziamento struttura seguendo c...</td>\n",
       "      <td>Java Developer</td>\n",
       "      <td>Java Developer</td>\n",
       "    </tr>\n",
       "    <tr>\n",
       "      <th>2</th>\n",
       "      <td>gestion infrastruttura informatica sistemi ope...</td>\n",
       "      <td>System Analyst</td>\n",
       "      <td>System Analyst</td>\n",
       "    </tr>\n",
       "    <tr>\n",
       "      <th>3</th>\n",
       "      <td>la risorsa responsabil installazion configuraz...</td>\n",
       "      <td>System Analyst</td>\n",
       "      <td>System Analyst</td>\n",
       "    </tr>\n",
       "    <tr>\n",
       "      <th>4</th>\n",
       "      <td>la risorsa inserita area innov center occup pr...</td>\n",
       "      <td>Java Developer</td>\n",
       "      <td>Java Developer</td>\n",
       "    </tr>\n",
       "    <tr>\n",
       "      <th>...</th>\n",
       "      <td>...</td>\n",
       "      <td>...</td>\n",
       "      <td>...</td>\n",
       "    </tr>\n",
       "    <tr>\n",
       "      <th>434</th>\n",
       "      <td>ali spa filial fano cerca azienda fano tecnico...</td>\n",
       "      <td>System Analyst</td>\n",
       "      <td>System Analyst</td>\n",
       "    </tr>\n",
       "    <tr>\n",
       "      <th>435</th>\n",
       "      <td>job summari parola chiav digitalizzazion uno p...</td>\n",
       "      <td>Web Developer</td>\n",
       "      <td>Web Developer</td>\n",
       "    </tr>\n",
       "    <tr>\n",
       "      <th>436</th>\n",
       "      <td>job summari parola chiav digitalizzazion uno p...</td>\n",
       "      <td>Web Developer</td>\n",
       "      <td>Web Developer</td>\n",
       "    </tr>\n",
       "    <tr>\n",
       "      <th>437</th>\n",
       "      <td>unazienda offr servizi grandi aziend settor ba...</td>\n",
       "      <td>Web Developer</td>\n",
       "      <td>Web Developer</td>\n",
       "    </tr>\n",
       "    <tr>\n",
       "      <th>438</th>\n",
       "      <td>ricerchiamo important realt settor informatico...</td>\n",
       "      <td>System Analyst</td>\n",
       "      <td>System Analyst</td>\n",
       "    </tr>\n",
       "  </tbody>\n",
       "</table>\n",
       "<p>439 rows × 3 columns</p>\n",
       "</div>"
      ],
      "text/plain": [
       "                                       Job_description      Label_true  \\\n",
       "0    siamo ricerca figur full stack develop inserir...   Web Developer   \n",
       "1    nell ambito potenziamento struttura seguendo c...  Java Developer   \n",
       "2    gestion infrastruttura informatica sistemi ope...  System Analyst   \n",
       "3    la risorsa responsabil installazion configuraz...  System Analyst   \n",
       "4    la risorsa inserita area innov center occup pr...  Java Developer   \n",
       "..                                                 ...             ...   \n",
       "434  ali spa filial fano cerca azienda fano tecnico...  System Analyst   \n",
       "435  job summari parola chiav digitalizzazion uno p...   Web Developer   \n",
       "436  job summari parola chiav digitalizzazion uno p...   Web Developer   \n",
       "437  unazienda offr servizi grandi aziend settor ba...   Web Developer   \n",
       "438  ricerchiamo important realt settor informatico...  System Analyst   \n",
       "\n",
       "         Label_pred  \n",
       "0     Web Developer  \n",
       "1    Java Developer  \n",
       "2    System Analyst  \n",
       "3    System Analyst  \n",
       "4    Java Developer  \n",
       "..              ...  \n",
       "434  System Analyst  \n",
       "435   Web Developer  \n",
       "436   Web Developer  \n",
       "437   Web Developer  \n",
       "438  System Analyst  \n",
       "\n",
       "[439 rows x 3 columns]"
      ]
     },
     "execution_count": 19,
     "metadata": {},
     "output_type": "execute_result"
    }
   ],
   "source": [
    "final_df = pd.DataFrame()\n",
    "final_df[['Job_description', 'Label_true']] = jobs_test[['Job_offer', 'Label']]\n",
    "final_df['Label_pred'] = predicted.tolist()\n",
    "final_df"
   ]
  },
  {
   "cell_type": "code",
   "execution_count": 20,
   "metadata": {
    "colab": {
     "base_uri": "https://localhost:8080/"
    },
    "id": "lUvw641r-pdM",
    "outputId": "3238b893-9691-4319-fef1-b627fe70eb0c"
   },
   "outputs": [
    {
     "name": "stdout",
     "output_type": "stream",
     "text": [
      "Precision \t\t Recall \t\t F1-score\n"
     ]
    },
    {
     "data": {
      "text/plain": [
       "(0.8136601721053903, 0.8144515262355068, 0.8130225868770342, None)"
      ]
     },
     "execution_count": 20,
     "metadata": {},
     "output_type": "execute_result"
    }
   ],
   "source": [
    "print('Precision \\t\\t Recall \\t\\t F1-score')\n",
    "precision_recall_fscore_support(final_df.Label_true, final_df.Label_pred, average='macro')"
   ]
  },
  {
   "cell_type": "code",
   "execution_count": 21,
   "metadata": {
    "id": "PXNnz7ovCMYb"
   },
   "outputs": [],
   "source": [
    "# save the model to disk\n",
    "filename = \"final_model.sav\"\n",
    "pickle.dump(clf, open(filename, 'wb'))"
   ]
  },
  {
   "cell_type": "markdown",
   "metadata": {
    "id": "_SsP-rNXCjle"
   },
   "source": [
    "### To load the model from disk and evaluate the accuracy on the test set uncomment the lines below."
   ]
  },
  {
   "cell_type": "code",
   "execution_count": 22,
   "metadata": {
    "colab": {
     "base_uri": "https://localhost:8080/",
     "height": 35
    },
    "id": "G0MHwqLyCP_J",
    "outputId": "94f28ab6-96c5-43a3-f244-7c7544efe33f"
   },
   "outputs": [
    {
     "data": {
      "text/plain": [
       "\"# load the model from disk\\nloaded_model = pickle.load(open(filename, 'rb'))\\nresult = loaded_model.score(X_test_tfidf, y_test)\\nprint(result)\""
      ]
     },
     "execution_count": 22,
     "metadata": {},
     "output_type": "execute_result"
    }
   ],
   "source": [
    "\"\"\"# load the model from disk\n",
    "loaded_model = pickle.load(open(filename, 'rb'))\n",
    "result = loaded_model.score(X_test_tfidf, y_test)\n",
    "print(result)\"\"\""
   ]
  },
  {
   "cell_type": "markdown",
   "metadata": {
    "id": "c6OptJlrCvFk"
   },
   "source": [
    "### Create output file with predictions on test set."
   ]
  },
  {
   "cell_type": "code",
   "execution_count": 23,
   "metadata": {
    "id": "VWxAw9t0CYn3"
   },
   "outputs": [],
   "source": [
    "filename = 'output.csv'\n",
    "final_df.to_csv(filename, sep=';')"
   ]
  },
  {
   "cell_type": "code",
   "execution_count": null,
   "metadata": {
    "id": "sPmOCJ-LFV7b"
   },
   "outputs": [],
   "source": []
  }
 ],
 "metadata": {
  "accelerator": "GPU",
  "colab": {
   "collapsed_sections": [],
   "name": "jobs-selector.ipynb",
   "provenance": []
  },
  "kernelspec": {
   "display_name": "Python 3",
   "language": "python",
   "name": "python3"
  },
  "language_info": {
   "codemirror_mode": {
    "name": "ipython",
    "version": 3
   },
   "file_extension": ".py",
   "mimetype": "text/x-python",
   "name": "python",
   "nbconvert_exporter": "python",
   "pygments_lexer": "ipython3",
   "version": "3.9.5"
  }
 },
 "nbformat": 4,
 "nbformat_minor": 4
}
